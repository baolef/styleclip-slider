{
 "cells": [
  {
   "cell_type": "code",
   "execution_count": 1,
   "id": "542e1dbf",
   "metadata": {
    "pycharm": {
     "name": "#%%\n"
    },
    "scrolled": true
   },
   "outputs": [],
   "source": [
    "import os\n",
    "import numpy as np\n",
    "from PIL import Image\n",
    "import ipywidgets as widgets"
   ]
  },
  {
   "cell_type": "code",
   "execution_count": 2,
   "id": "ee7d738a",
   "metadata": {
    "pycharm": {
     "name": "#%%\n"
    },
    "scrolled": true
   },
   "outputs": [],
   "source": [
    "imgdir='samples'\n",
    "H,W=250,250\n",
    "origs=[]\n",
    "filenames=sorted(os.listdir(imgdir))\n",
    "for filename in filenames:\n",
    "    origs.append(np.asanyarray(Image.open(f'{imgdir}/{filename}').resize((H,W))))\n",
    "origs=np.stack(origs)\n",
    "delta_s=None"
   ]
  },
  {
   "cell_type": "code",
   "execution_count": 3,
   "id": "bb3ef334",
   "metadata": {
    "pycharm": {
     "name": "#%%\n"
    },
    "scrolled": true
   },
   "outputs": [],
   "source": [
    "targets = [\n",
    "\n",
    "    'face with Arched Eyebrows',\n",
    "    'face with Bushy Eyebrows',\n",
    "\n",
    "    'face with Big Lips',\n",
    "\n",
    "    'face with Big Nose',\n",
    "    'face with Pointy Nose',\n",
    "\n",
    "    'face with Black Hair',\n",
    "    'face with Blond Hair',\n",
    "    'face with Brown Hair',\n",
    "    'face with Gray Hair',\n",
    "    'face with Curly Hair',\n",
    "    'face with Straight Hair',\n",
    "    'face with Wavy Hair',\n",
    "    'face with Receding Hairline',\n",
    "    'face with Bangs',\n",
    "\n",
    "    'face with Eyeglasses',\n",
    "    'face with Sunglasses',\n",
    "\n",
    "    'face with Eyes Open',\n",
    "    'face with Narrow Eyes',\n",
    "    'face with Brown Eyes',\n",
    "    'face with Bags Under Eyes',\n",
    "\n",
    "    'face with Heavy Makeup',\n",
    "    'face with Lipstick',\n",
    "\n",
    "    'face with Mouth Closed',\n",
    "    'face with Mouth Slightly Open',\n",
    "    'face with Mouth Wide Open',\n",
    "\n",
    "    'face with Beard',\n",
    "    'face with No Beard',\n",
    "    'face with Mustache',\n",
    "    'face with Goatee',\n",
    "\n",
    "    'face with Pale Skin',\n",
    "    'face with Shiny Skin',\n",
    "    'face with Rosy Cheeks',\n",
    "    'face with Sideburns',\n",
    "\n",
    "    'face with Earrings',\n",
    "    'face with Hat',\n",
    "    'face with Necklace',\n",
    "    'face with Necktie',\n",
    "\n",
    "    'face with Double Chin',\n",
    "    'face with High Cheekbones',\n",
    "    'face with Frowning',\n",
    "    'face with Round Jaw',\n",
    "\n",
    "    'Asian face',\n",
    "    'White face',\n",
    "    'Black face',\n",
    "    'Indian face',\n",
    "\n",
    "    'Baby face',\n",
    "    'Child face',\n",
    "    'Middle Aged face',\n",
    "    'Senior face',\n",
    "    'Youth face',\n",
    "\n",
    "    'Oval Face',\n",
    "    'Square Face',\n",
    "    'Round Face',\n",
    "\n",
    "    'Attractive face',\n",
    "    'Bald face',\n",
    "    'Blurry face',\n",
    "    'Chubby face',\n",
    "    'Smiling face',\n",
    "\n",
    "    'Surprised face',\n",
    "    'Fearful face',\n",
    "    'Disgusted face',\n",
    "    'Happy face',\n",
    "    'Sad face',\n",
    "    'Angry face',\n",
    "\n",
    "    'face under Harsh Lighting',\n",
    "    'face under Flash Lighting',\n",
    "\n",
    "]"
   ]
  },
  {
   "cell_type": "code",
   "execution_count": 4,
   "id": "4a000311",
   "metadata": {
    "pycharm": {
     "name": "#%%\n"
    },
    "scrolled": true
   },
   "outputs": [],
   "source": [
    "slider = widgets.FloatSlider(\n",
    "    value=0,\n",
    "    min=-5,\n",
    "    max=5,\n",
    "    step=0.1,\n",
    "    description='Alpha:',\n",
    "    readout_format='.1f',\n",
    ")"
   ]
  },
  {
   "cell_type": "code",
   "execution_count": 5,
   "id": "2088b179",
   "metadata": {
    "pycharm": {
     "name": "#%%\n"
    },
    "scrolled": true
   },
   "outputs": [],
   "source": [
    "dropdown = widgets.Dropdown(options=targets)"
   ]
  },
  {
   "cell_type": "code",
   "execution_count": 6,
   "id": "944b296a",
   "metadata": {
    "pycharm": {
     "name": "#%%\n"
    },
    "scrolled": true
   },
   "outputs": [],
   "source": [
    "out1 = widgets.Output()\n",
    "out2 = widgets.Output()\n",
    "out3 = widgets.Output()\n",
    "out4 = widgets.Output()"
   ]
  },
  {
   "cell_type": "code",
   "execution_count": 7,
   "id": "8f1319a0",
   "metadata": {
    "pycharm": {
     "name": "#%%\n"
    },
    "scrolled": true
   },
   "outputs": [],
   "source": [
    "def visualize(imgs,gh,gw):\n",
    "    _,H,W,C=imgs.shape\n",
    "    imgs=imgs.reshape(gh,gw,H,W,C)\n",
    "    imgs=imgs.transpose(0,2,1,3,4)\n",
    "    imgs = imgs.reshape(gh*H, gw*W, C)\n",
    "    display(Image.fromarray(imgs, 'RGB'))"
   ]
  },
  {
   "cell_type": "code",
   "execution_count": null,
   "id": "7f627964",
   "metadata": {
    "pycharm": {
     "name": "#%%\n",
     "is_executing": true
    },
    "scrolled": true
   },
   "outputs": [],
   "source": [
    "with out1:\n",
    "    visualize(origs[:5],1,5)\n",
    "with out3:\n",
    "    visualize(origs[5:],1,5)"
   ]
  },
  {
   "cell_type": "code",
   "execution_count": 9,
   "id": "888c3014",
   "metadata": {
    "pycharm": {
     "name": "#%%\n"
    },
    "scrolled": true
   },
   "outputs": [],
   "source": [
    "root='output250'\n",
    "def handler(change):\n",
    "    imgs=[]\n",
    "    for filename in filenames:\n",
    "        imgs.append(Image.open(os.path.join(root,dropdown.value,\"{:.1f}\".format(-slider.value if slider.value!=0.0 else 0.0),filename)))\n",
    "    imgs = np.stack(imgs)\n",
    "    with out2:\n",
    "        out2.clear_output(wait=True)\n",
    "        visualize(imgs[:5],1,5)\n",
    "    with out4:\n",
    "        out4.clear_output(wait=True)\n",
    "        visualize(imgs[5:],1,5)\n",
    "\n",
    "\n",
    "slider.observe(handler, names='value')\n",
    "dropdown.observe(handler, names='value')"
   ]
  },
  {
   "cell_type": "code",
   "execution_count": 10,
   "id": "5ff987a3",
   "metadata": {
    "pycharm": {
     "name": "#%%\n"
    },
    "scrolled": true
   },
   "outputs": [],
   "source": [
    "handler(None)"
   ]
  },
  {
   "cell_type": "code",
   "execution_count": 11,
   "id": "5fce5030",
   "metadata": {
    "pycharm": {
     "name": "#%%\n"
    },
    "scrolled": true
   },
   "outputs": [],
   "source": [
    "control=widgets.VBox(children=[slider,dropdown])\n",
    "out=widgets.VBox(children=[out1,out2,out3,out4])"
   ]
  },
  {
   "cell_type": "code",
   "execution_count": 12,
   "id": "5239600c",
   "metadata": {
    "pycharm": {
     "name": "#%%\n"
    },
    "scrolled": false
   },
   "outputs": [
    {
     "data": {
      "text/plain": "HBox(children=(VBox(children=(Output(), Output(), Output(), Output())), VBox(children=(FloatSlider(value=0.0, …",
      "application/vnd.jupyter.widget-view+json": {
       "version_major": 2,
       "version_minor": 0,
       "model_id": "cc0d9d449c8447998de4dcdedb0c6622"
      }
     },
     "execution_count": 12,
     "metadata": {},
     "output_type": "execute_result"
    }
   ],
   "source": [
    "widgets.HBox(children=[out,control])"
   ]
  },
  {
   "cell_type": "code",
   "execution_count": 12,
   "id": "bda7a48e-1885-4cc7-abfb-bad2103c1572",
   "metadata": {
    "pycharm": {
     "name": "#%%\n"
    },
    "scrolled": true
   },
   "outputs": [],
   "source": []
  }
 ],
 "metadata": {
  "kernelspec": {
   "display_name": "Python [conda env:.conda-zoom] *",
   "language": "python",
   "name": "conda-env-.conda-zoom-py"
  },
  "language_info": {
   "codemirror_mode": {
    "name": "ipython",
    "version": 3
   },
   "file_extension": ".py",
   "mimetype": "text/x-python",
   "name": "python",
   "nbconvert_exporter": "python",
   "pygments_lexer": "ipython3",
   "version": "3.9.16"
  }
 },
 "nbformat": 4,
 "nbformat_minor": 5
}