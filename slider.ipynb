{
 "cells": [
  {
   "cell_type": "code",
   "execution_count": 1,
   "id": "542e1dbf",
   "metadata": {
    "pycharm": {
     "name": "#%%\n"
    }
   },
   "outputs": [],
   "source": [
    "import os\n",
    "import clip\n",
    "import numpy as np\n",
    "from PIL import Image\n",
    "import torch\n",
    "\n",
    "from embedding import get_delta_t\n",
    "from manipulator import Manipulator\n",
    "from mapper import get_delta_s\n",
    "from wrapper import Generator"
   ]
  },
  {
   "cell_type": "code",
   "execution_count": 2,
   "id": "2c17dfcd",
   "metadata": {
    "pycharm": {
     "name": "#%%\n"
    }
   },
   "outputs": [],
   "source": [
    "# GPU device\n",
    "device = torch.device('cuda:2')\n",
    "# pretrained ffhq generator\n",
    "ckpt = 'pretrained/ffhq.pkl'\n",
    "G = Generator(ckpt, device)\n",
    "# CLIP\n",
    "model, preprocess = clip.load(\"ViT-B/32\", device=device)\n",
    "# global image direction\n",
    "fs3 = np.load('tensor/fs3.npy')"
   ]
  },
  {
   "cell_type": "code",
   "execution_count": 3,
   "id": "cf855a49",
   "metadata": {
    "pycharm": {
     "name": "#%%\n"
    }
   },
   "outputs": [],
   "source": [
    "manipulator = Manipulator(G, device)"
   ]
  },
  {
   "cell_type": "code",
   "execution_count": 4,
   "id": "af5ce98c",
   "metadata": {
    "pycharm": {
     "name": "#%%\n"
    }
   },
   "outputs": [
    {
     "ename": "ValueError",
     "evalue": "Unknown resampling filter (256). Use Image.Resampling.NEAREST (0), Image.Resampling.LANCZOS (1), Image.Resampling.BILINEAR (2), Image.Resampling.BICUBIC (3), Image.Resampling.BOX (4) or Image.Resampling.HAMMING (5)",
     "output_type": "error",
     "traceback": [
      "\u001B[0;31m---------------------------------------------------------------------------\u001B[0m",
      "\u001B[0;31mValueError\u001B[0m                                Traceback (most recent call last)",
      "Cell \u001B[0;32mIn[4], line 6\u001B[0m\n\u001B[1;32m      4\u001B[0m origs\u001B[38;5;241m=\u001B[39m[]\n\u001B[1;32m      5\u001B[0m \u001B[38;5;28;01mfor\u001B[39;00m filename \u001B[38;5;129;01min\u001B[39;00m \u001B[38;5;28msorted\u001B[39m(os\u001B[38;5;241m.\u001B[39mlistdir(imgdir)):\n\u001B[0;32m----> 6\u001B[0m     origs\u001B[38;5;241m.\u001B[39mappend(np\u001B[38;5;241m.\u001B[39masanyarray(\u001B[43mImage\u001B[49m\u001B[38;5;241;43m.\u001B[39;49m\u001B[43mopen\u001B[49m\u001B[43m(\u001B[49m\u001B[38;5;124;43mf\u001B[39;49m\u001B[38;5;124;43m'\u001B[39;49m\u001B[38;5;132;43;01m{\u001B[39;49;00m\u001B[43mimgdir\u001B[49m\u001B[38;5;132;43;01m}\u001B[39;49;00m\u001B[38;5;124;43m/\u001B[39;49m\u001B[38;5;132;43;01m{\u001B[39;49;00m\u001B[43mfilename\u001B[49m\u001B[38;5;132;43;01m}\u001B[39;49;00m\u001B[38;5;124;43m'\u001B[39;49m\u001B[43m)\u001B[49m\u001B[38;5;241;43m.\u001B[39;49m\u001B[43mresize\u001B[49m\u001B[43m(\u001B[49m\u001B[43mH\u001B[49m\u001B[43m,\u001B[49m\u001B[43mW\u001B[49m\u001B[43m)\u001B[49m))\n\u001B[1;32m      7\u001B[0m origs\u001B[38;5;241m=\u001B[39mnp\u001B[38;5;241m.\u001B[39mstack(origs)\n",
      "File \u001B[0;32m~/.conda/envs/zoom/lib/python3.9/site-packages/PIL/Image.py:2148\u001B[0m, in \u001B[0;36mImage.resize\u001B[0;34m(self, size, resample, box, reducing_gap)\u001B[0m\n\u001B[1;32m   2136\u001B[0m     filters \u001B[38;5;241m=\u001B[39m [\n\u001B[1;32m   2137\u001B[0m         \u001B[38;5;124mf\u001B[39m\u001B[38;5;124m\"\u001B[39m\u001B[38;5;132;01m{\u001B[39;00m\u001B[38;5;28mfilter\u001B[39m[\u001B[38;5;241m1\u001B[39m]\u001B[38;5;132;01m}\u001B[39;00m\u001B[38;5;124m (\u001B[39m\u001B[38;5;132;01m{\u001B[39;00m\u001B[38;5;28mfilter\u001B[39m[\u001B[38;5;241m0\u001B[39m]\u001B[38;5;132;01m}\u001B[39;00m\u001B[38;5;124m)\u001B[39m\u001B[38;5;124m\"\u001B[39m\n\u001B[1;32m   2138\u001B[0m         \u001B[38;5;28;01mfor\u001B[39;00m \u001B[38;5;28mfilter\u001B[39m \u001B[38;5;129;01min\u001B[39;00m (\n\u001B[0;32m   (...)\u001B[0m\n\u001B[1;32m   2145\u001B[0m         )\n\u001B[1;32m   2146\u001B[0m     ]\n\u001B[1;32m   2147\u001B[0m     msg \u001B[38;5;241m+\u001B[39m\u001B[38;5;241m=\u001B[39m \u001B[38;5;124m\"\u001B[39m\u001B[38;5;124m Use \u001B[39m\u001B[38;5;124m\"\u001B[39m \u001B[38;5;241m+\u001B[39m \u001B[38;5;124m\"\u001B[39m\u001B[38;5;124m, \u001B[39m\u001B[38;5;124m\"\u001B[39m\u001B[38;5;241m.\u001B[39mjoin(filters[:\u001B[38;5;241m-\u001B[39m\u001B[38;5;241m1\u001B[39m]) \u001B[38;5;241m+\u001B[39m \u001B[38;5;124m\"\u001B[39m\u001B[38;5;124m or \u001B[39m\u001B[38;5;124m\"\u001B[39m \u001B[38;5;241m+\u001B[39m filters[\u001B[38;5;241m-\u001B[39m\u001B[38;5;241m1\u001B[39m]\n\u001B[0;32m-> 2148\u001B[0m     \u001B[38;5;28;01mraise\u001B[39;00m \u001B[38;5;167;01mValueError\u001B[39;00m(msg)\n\u001B[1;32m   2150\u001B[0m \u001B[38;5;28;01mif\u001B[39;00m reducing_gap \u001B[38;5;129;01mis\u001B[39;00m \u001B[38;5;129;01mnot\u001B[39;00m \u001B[38;5;28;01mNone\u001B[39;00m \u001B[38;5;129;01mand\u001B[39;00m reducing_gap \u001B[38;5;241m<\u001B[39m \u001B[38;5;241m1.0\u001B[39m:\n\u001B[1;32m   2151\u001B[0m     msg \u001B[38;5;241m=\u001B[39m \u001B[38;5;124m\"\u001B[39m\u001B[38;5;124mreducing_gap must be 1.0 or greater\u001B[39m\u001B[38;5;124m\"\u001B[39m\n",
      "\u001B[0;31mValueError\u001B[0m: Unknown resampling filter (256). Use Image.Resampling.NEAREST (0), Image.Resampling.LANCZOS (1), Image.Resampling.BILINEAR (2), Image.Resampling.BICUBIC (3), Image.Resampling.BOX (4) or Image.Resampling.HAMMING (5)"
     ]
    }
   ],
   "source": [
    "# test image dir path\n",
    "H,W=256,256\n",
    "imgdir = 'samples'\n",
    "origs=[]\n",
    "for filename in sorted(os.listdir(imgdir)):\n",
    "    origs.append(np.asanyarray(Image.open(f'{imgdir}/{filename}').resize(H,W)))\n",
    "origs=np.stack(origs)"
   ]
  },
  {
   "cell_type": "code",
   "execution_count": null,
   "id": "d66e865b",
   "metadata": {
    "pycharm": {
     "name": "#%%\n"
    }
   },
   "outputs": [],
   "source": [
    "# manipulator mode\n",
    "# inv_mode : inversion mode\n",
    "# 'w' : use w projector proposed by Karras et al.\n",
    "# 'w+' : use e4e encoder (only implemented for ffhq1024 now)\n",
    "# pti_mode : pivot tuning mode\n",
    "# 'w' : W latent space pivot tuning\n",
    "# 's' : Style space pivot tuning\n",
    "manipulator.set_real_img_projection(imgdir, inv_mode='w+', pti_mode='s')"
   ]
  },
  {
   "cell_type": "code",
   "execution_count": null,
   "id": "07276238",
   "metadata": {
    "pycharm": {
     "name": "#%%\n"
    }
   },
   "outputs": [],
   "source": [
    "# text direction : neutral -> target\n",
    "\n",
    "targets = [\n",
    "\n",
    "    'face with Arched Eyebrows',\n",
    "    'face with Bushy Eyebrows',\n",
    "\n",
    "    'face with Big Lips',\n",
    "\n",
    "    'face with Big Nose',\n",
    "    'face with Pointy Nose',\n",
    "\n",
    "    'face with Black Hair',\n",
    "    'face with Blond Hair',\n",
    "    'face with Brown Hair',\n",
    "    'face with Gray Hair',\n",
    "    'face with Curly Hair',\n",
    "    'face with Straight Hair',\n",
    "    'face with Wavy Hair',\n",
    "    'face with Receding Hairline',\n",
    "    'face with Bangs',\n",
    "\n",
    "    'face with Eyeglasses',\n",
    "    'face with Sunglasses',\n",
    "\n",
    "    'face with Eyes Open',\n",
    "    'face with Narrow Eyes',\n",
    "    'face with Brown Eyes',\n",
    "    'face with Bags Under Eyes',\n",
    "\n",
    "    'face with Heavy Makeup',\n",
    "    'face with Lipstick',\n",
    "\n",
    "    'face with Mouth Closed',\n",
    "    'face with Mouth Slightly Open',\n",
    "    'face with Mouth Wide Open',\n",
    "\n",
    "    'face with Beard',\n",
    "    'face with No Beard',\n",
    "    'face with Mustache',\n",
    "    'face with Goatee',\n",
    "\n",
    "    'face with Pale Skin',\n",
    "    'face with Shiny Skin',\n",
    "    'face with Rosy Cheeks',\n",
    "    'face with Sideburns',\n",
    "\n",
    "    'face with Earrings',\n",
    "    'face with Hat',\n",
    "    'face with Necklace',\n",
    "    'face with Necktie',\n",
    "\n",
    "    'face with Double Chin',\n",
    "    'face with High Cheekbones',\n",
    "    'face with Frowning',\n",
    "    'face with Round Jaw',\n",
    "\n",
    "    'Asian face',\n",
    "    'White face',\n",
    "    'Black face',\n",
    "    'Indian face',\n",
    "\n",
    "    'Baby face',\n",
    "    'Child face',\n",
    "    'Middle Aged face',\n",
    "    'Senior face',\n",
    "    'Youth face',\n",
    "\n",
    "    'Oval Face',\n",
    "    'Square Face',\n",
    "    'Round Face',\n",
    "\n",
    "    'Attractive face',\n",
    "    'Bald face',\n",
    "    'Blurry face',\n",
    "    'Chubby face',\n",
    "    'Smiling face',\n",
    "\n",
    "    'Surprised face',\n",
    "    'Fearful face',\n",
    "    'Disgusted face',\n",
    "    'Happy face',\n",
    "    'Sad face',\n",
    "    'Angry face',\n",
    "\n",
    "    'face under Harsh Lighting',\n",
    "    'face under Flash Lighting',\n",
    "\n",
    "]\n",
    "neutral = 'face'\n",
    "\n",
    "# beta_threshold : Determines the degree of disentanglement, # channels manipulated\n",
    "beta_threshold = 0.10"
   ]
  },
  {
   "cell_type": "code",
   "execution_count": null,
   "id": "b1d9cf99-0096-426b-b7bc-ad355549ec86",
   "metadata": {
    "pycharm": {
     "name": "#%%\n"
    }
   },
   "outputs": [],
   "source": [
    "def visualize(imgs,gh,gw):\n",
    "    _,H,W,C=imgs.shape\n",
    "    imgs=imgs.reshape(gh,gw,H,W,C)\n",
    "    imgs=imgs.transpose(0,2,1,3,4)\n",
    "    imgs = imgs.reshape(gh*H, gw*W, C)\n",
    "    print(imgs.shape)\n",
    "    display(Image.fromarray(imgs, 'RGB'))"
   ]
  },
  {
   "cell_type": "code",
   "execution_count": null,
   "outputs": [],
   "source": [],
   "metadata": {
    "collapsed": false,
    "pycharm": {
     "name": "#%%\n"
    }
   }
  },
  {
   "cell_type": "code",
   "execution_count": null,
   "outputs": [],
   "source": [
    "import ipywidgets as widgets\n",
    "delta_s=None"
   ],
   "metadata": {
    "collapsed": false,
    "pycharm": {
     "name": "#%%\n"
    }
   }
  },
  {
   "cell_type": "code",
   "execution_count": null,
   "outputs": [],
   "source": [
    "slider = widgets.FloatSlider(\n",
    "    value=0,\n",
    "    min=-5,\n",
    "    max=5,\n",
    "    step=0.01,\n",
    "    description='Alpha:',\n",
    "    readout_format='.2f',\n",
    ")"
   ],
   "metadata": {
    "collapsed": false,
    "pycharm": {
     "name": "#%%\n"
    }
   }
  },
  {
   "cell_type": "code",
   "execution_count": null,
   "outputs": [],
   "source": [
    "dropdown = widgets.Dropdown(options=targets)"
   ],
   "metadata": {
    "collapsed": false,
    "pycharm": {
     "name": "#%%\n"
    }
   }
  },
  {
   "cell_type": "code",
   "execution_count": null,
   "outputs": [],
   "source": [
    "def slider_handler():\n",
    "    # manipulate styles\n",
    "    manipulator.set_alpha([slider.value])\n",
    "    styles = manipulator.manipulate(delta_s)\n",
    "    all_imgs = manipulator.synthesis_from_styles(styles, 0, manipulator.num_images)\n",
    "\n",
    "    # visualize\n",
    "    lst = []\n",
    "    for imgs in all_imgs:\n",
    "        lst.append((imgs.permute(0, 2, 3, 1) * 127.5 + 128).clamp(0, 255).to(torch.uint8).numpy())\n",
    "\n",
    "    imgs = lst[0]\n",
    "    # visualize(origs,gw,gh)\n",
    "    # visualize(imgs,gw,gh)\n",
    "    output=np.concatenate([origs,imgs],axis=2)\n",
    "    display(Image.fromarray(output.reshape(-1,output.shape[-2],output.shape[-1]), 'RGB'))\n",
    "\n",
    "slider.observe(slider_handler, names='value')"
   ],
   "metadata": {
    "collapsed": false,
    "pycharm": {
     "name": "#%%\n"
    }
   }
  },
  {
   "cell_type": "code",
   "execution_count": null,
   "outputs": [],
   "source": [
    "def dropdown_handler():\n",
    "    global delta_s\n",
    "    classnames = [neutral, dropdown.value]\n",
    "    delta_t = get_delta_t(classnames, model)\n",
    "    delta_s, _ = get_delta_s(fs3, delta_t, manipulator, beta_threshold=beta_threshold)\n",
    "\n",
    "dropdown.observe(dropdown_handler,names='value')"
   ],
   "metadata": {
    "collapsed": false,
    "pycharm": {
     "name": "#%%\n"
    }
   }
  },
  {
   "cell_type": "code",
   "execution_count": null,
   "outputs": [],
   "source": [
    "display(slider,dropdown)"
   ],
   "metadata": {
    "collapsed": false,
    "pycharm": {
     "name": "#%%\n"
    }
   }
  },
  {
   "cell_type": "code",
   "execution_count": null,
   "id": "9ef1e07e",
   "metadata": {
    "pycharm": {
     "name": "#%%\n"
    }
   },
   "outputs": [],
   "source": [
    "import ipywidgets as widgets\n",
    "\n",
    "@widgets.interact(alpha=(-5, 5, 0.01),target=targets)\n",
    "def run(alpha,target):\n",
    "    classnames = [neutral, target]\n",
    "    delta_t = get_delta_t(classnames, model)\n",
    "    delta_s, num_channel = get_delta_s(fs3, delta_t, manipulator, beta_threshold=beta_threshold)\n",
    "    manipulator.set_alpha([alpha])\n",
    "\n",
    "    # manipulate styles\n",
    "    styles = manipulator.manipulate(delta_s)\n",
    "    all_imgs = manipulator.synthesis_from_styles(styles, 0, manipulator.num_images)\n",
    "\n",
    "    # visualize\n",
    "    lst = []\n",
    "    for imgs in all_imgs:\n",
    "        lst.append((imgs.permute(0, 2, 3, 1) * 127.5 + 128).clamp(0, 255).to(torch.uint8).numpy())\n",
    "\n",
    "    gw, gh = (manipulator.num_images, 1)\n",
    "\n",
    "    imgs = lst[0]\n",
    "    # visualize(origs,gw,gh)\n",
    "    # visualize(imgs,gw,gh)\n",
    "    output=np.concatenate([origs,imgs],axis=2)\n",
    "    display(Image.fromarray(output.reshape(-1,output.shape[-2],output.shape[-1]), 'RGB'))"
   ]
  },
  {
   "cell_type": "code",
   "execution_count": null,
   "id": "2a016e81",
   "metadata": {
    "pycharm": {
     "name": "#%%\n"
    }
   },
   "outputs": [],
   "source": []
  }
 ],
 "metadata": {
  "kernelspec": {
   "name": "conda-env-.conda-zoom-py",
   "language": "python",
   "display_name": "Python [conda env:.conda-zoom] *"
  },
  "language_info": {
   "codemirror_mode": {
    "name": "ipython",
    "version": 3
   },
   "file_extension": ".py",
   "mimetype": "text/x-python",
   "name": "python",
   "nbconvert_exporter": "python",
   "pygments_lexer": "ipython3",
   "version": "3.9.16"
  }
 },
 "nbformat": 4,
 "nbformat_minor": 5
}