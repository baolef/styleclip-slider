{
 "cells": [
  {
   "cell_type": "code",
   "execution_count": 1,
   "id": "542e1dbf",
   "metadata": {
    "pycharm": {
     "name": "#%%\n"
    }
   },
   "outputs": [],
   "source": [
    "import os\n",
    "import clip\n",
    "import numpy as np\n",
    "from PIL import Image\n",
    "import torch\n",
    "\n",
    "from embedding import get_delta_t\n",
    "from manipulator import Manipulator\n",
    "from mapper import get_delta_s\n",
    "from wrapper import Generator"
   ]
  },
  {
   "cell_type": "code",
   "execution_count": 2,
   "id": "2c17dfcd",
   "metadata": {
    "pycharm": {
     "name": "#%%\n"
    }
   },
   "outputs": [],
   "source": [
    "# GPU device\n",
    "device = torch.device('cuda:2')\n",
    "# pretrained ffhq generator\n",
    "ckpt = 'pretrained/ffhq.pkl'\n",
    "G = Generator(ckpt, device)\n",
    "# CLIP\n",
    "model, preprocess = clip.load(\"ViT-B/32\", device=device)\n",
    "# global image direction\n",
    "fs3 = np.load('tensor/fs3.npy')"
   ]
  },
  {
   "cell_type": "code",
   "execution_count": 3,
   "id": "cf855a49",
   "metadata": {
    "pycharm": {
     "name": "#%%\n"
    }
   },
   "outputs": [],
   "source": [
    "manipulator = Manipulator(G, device)"
   ]
  },
  {
   "cell_type": "code",
   "execution_count": 4,
   "id": "af5ce98c",
   "metadata": {
    "pycharm": {
     "name": "#%%\n"
    }
   },
   "outputs": [],
   "source": [
    "# test image dir path\n",
    "imgdir = 'samples'\n",
    "origs=[]\n",
    "for filename in sorted(os.listdir(imgdir)):\n",
    "    origs.append(np.asanyarray(Image.open(f'{imgdir}/{filename}')))\n",
    "origs=np.stack(origs)"
   ]
  },
  {
   "cell_type": "code",
   "execution_count": 5,
   "id": "d66e865b",
   "metadata": {
    "pycharm": {
     "name": "#%%\n"
    }
   },
   "outputs": [
    {
     "name": "stdout",
     "output_type": "stream",
     "text": [
      "Loading e4e over the pSp framework from checkpoint: pretrained/e4e_ffhq_encode.pt\n",
      "Setting up [LPIPS] perceptual loss: trunk [alex], v[0.1], spatial [off]\n",
      "Loading model from: /home/baole/.conda/envs/zoom/lib/python3.9/site-packages/lpips/weights/v0.1/alex.pth\n",
      "Loading e4e over the pSp framework from checkpoint: pretrained/e4e_ffhq_encode.pt\n",
      "Setting up [LPIPS] perceptual loss: trunk [alex], v[0.1], spatial [off]\n",
      "Loading model from: /home/baole/.conda/envs/zoom/lib/python3.9/site-packages/lpips/weights/v0.1/alex.pth\n"
     ]
    },
    {
     "name": "stderr",
     "output_type": "stream",
     "text": [
      "  0%|                                                                                                                                                     | 0/350 [00:00<?, ?it/s]"
     ]
    },
    {
     "name": "stdout",
     "output_type": "stream",
     "text": [
      "Setting up PyTorch plugin \"bias_act_plugin\"... Done.\n",
      "Setting up PyTorch plugin \"upfirdn2d_plugin\"... Done.\n"
     ]
    },
    {
     "name": "stderr",
     "output_type": "stream",
     "text": [
      "100%|███████████████████████████████████████████████████████████████████████████████████████████████████████████████████████████████████████████| 350/350 [05:57<00:00,  1.02s/it]\n"
     ]
    }
   ],
   "source": [
    "# manipulator mode\n",
    "# inv_mode : inversion mode\n",
    "# 'w' : use w projector proposed by Karras et al.\n",
    "# 'w+' : use e4e encoder (only implemented for ffhq1024 now)\n",
    "# pti_mode : pivot tuning mode\n",
    "# 'w' : W latent space pivot tuning\n",
    "# 's' : Style space pivot tuning\n",
    "manipulator.set_real_img_projection(imgdir, inv_mode='w+', pti_mode='s')"
   ]
  },
  {
   "cell_type": "code",
   "execution_count": 6,
   "id": "07276238",
   "metadata": {
    "pycharm": {
     "name": "#%%\n"
    }
   },
   "outputs": [],
   "source": [
    "# text direction : neutral -> target\n",
    "\n",
    "targets = [\n",
    "\n",
    "    'face with Arched Eyebrows',\n",
    "    'face with Bushy Eyebrows',\n",
    "\n",
    "    'face with Big Lips',\n",
    "\n",
    "    'face with Big Nose',\n",
    "    'face with Pointy Nose',\n",
    "\n",
    "    'face with Black Hair',\n",
    "    'face with Blond Hair',\n",
    "    'face with Brown Hair',\n",
    "    'face with Gray Hair',\n",
    "    'face with Curly Hair',\n",
    "    'face with Straight Hair',\n",
    "    'face with Wavy Hair',\n",
    "    'face with Receding Hairline',\n",
    "    'face with Bangs',\n",
    "\n",
    "    'face with Eyeglasses',\n",
    "    'face with Sunglasses',\n",
    "\n",
    "    'face with Eyes Open',\n",
    "    'face with Narrow Eyes',\n",
    "    'face with Brown Eyes',\n",
    "    'face with Bags Under Eyes',\n",
    "\n",
    "    'face with Heavy Makeup',\n",
    "    'face with Lipstick',\n",
    "\n",
    "    'face with Mouth Closed',\n",
    "    'face with Mouth Slightly Open',\n",
    "    'face with Mouth Wide Open',\n",
    "\n",
    "    'face with Beard',\n",
    "    'face with No Beard',\n",
    "    'face with Mustache',\n",
    "    'face with Goatee',\n",
    "\n",
    "    'face with Pale Skin',\n",
    "    'face with Shiny Skin',\n",
    "    'face with Rosy Cheeks',\n",
    "    'face with Sideburns',\n",
    "\n",
    "    'face with Earrings',\n",
    "    'face with Hat',\n",
    "    'face with Necklace',\n",
    "    'face with Necktie',\n",
    "\n",
    "    'face with Double Chin',\n",
    "    'face with High Cheekbones',\n",
    "    'face with Frowning',\n",
    "    'face with Round Jaw',\n",
    "\n",
    "    'Asian face',\n",
    "    'White face',\n",
    "    'Black face',\n",
    "    'Indian face',\n",
    "\n",
    "    'Baby face',\n",
    "    'Child face',\n",
    "    'Middle Aged face',\n",
    "    'Senior face',\n",
    "    'Youth face',\n",
    "\n",
    "    'Oval Face',\n",
    "    'Square Face',\n",
    "    'Round Face',\n",
    "\n",
    "    'Attractive face',\n",
    "    'Bald face',\n",
    "    'Blurry face',\n",
    "    'Chubby face',\n",
    "    'Smiling face',\n",
    "\n",
    "    'Surprised face',\n",
    "    'Fearful face',\n",
    "    'Disgusted face',\n",
    "    'Happy face',\n",
    "    'Sad face',\n",
    "    'Angry face',\n",
    "\n",
    "    'face under Harsh Lighting',\n",
    "    'face under Flash Lighting',\n",
    "\n",
    "]\n",
    "neutral = 'face'\n",
    "\n",
    "# beta_threshold : Determines the degree of disentanglement, # channels manipulated\n",
    "beta_threshold = 0.10"
   ]
  },
  {
   "cell_type": "code",
   "execution_count": 17,
   "id": "b1d9cf99-0096-426b-b7bc-ad355549ec86",
   "metadata": {
    "pycharm": {
     "name": "#%%\n"
    }
   },
   "outputs": [],
   "source": [
    "def visualize(imgs,gh,gw):\n",
    "    _,H,W,C=imgs.shape\n",
    "    imgs=imgs.reshape(gh,gw,H,W,C)\n",
    "    imgs=imgs.transpose(0,2,1,3,4)\n",
    "    imgs = imgs.reshape(gh*H, gw*W, C)\n",
    "    print(imgs.shape)\n",
    "    display(Image.fromarray(imgs, 'RGB'))"
   ]
  },
  {
   "cell_type": "code",
   "execution_count": 19,
   "id": "9ef1e07e",
   "metadata": {
    "pycharm": {
     "name": "#%%\n"
    }
   },
   "outputs": [
    {
     "data": {
      "application/vnd.jupyter.widget-view+json": {
       "model_id": "7074858329824802aa910ac7f0c469f1",
       "version_major": 2,
       "version_minor": 0
      },
      "text/plain": [
       "interactive(children=(FloatSlider(value=0.0, description='alpha', max=5.0, min=-5.0, step=0.01), Dropdown(desc…"
      ]
     },
     "metadata": {},
     "output_type": "display_data"
    }
   ],
   "source": [
    "import ipywidgets as widgets\n",
    "\n",
    "@widgets.interact(alpha=(-5, 5, 0.01),target=targets)\n",
    "def run(alpha,target):\n",
    "    classnames = [neutral, target]\n",
    "    delta_t = get_delta_t(classnames, model)\n",
    "    delta_s, num_channel = get_delta_s(fs3, delta_t, manipulator, beta_threshold=beta_threshold)\n",
    "    manipulator.set_alpha([alpha])\n",
    "\n",
    "    # manipulate styles\n",
    "    styles = manipulator.manipulate(delta_s)\n",
    "    all_imgs = manipulator.synthesis_from_styles(styles, 0, manipulator.num_images)\n",
    "\n",
    "    # visualize\n",
    "    lst = []\n",
    "    for imgs in all_imgs:\n",
    "        lst.append((imgs.permute(0, 2, 3, 1) * 127.5 + 128).clamp(0, 255).to(torch.uint8).numpy())\n",
    "\n",
    "    gw, gh = (manipulator.num_images, 1)\n",
    "    \n",
    "    imgs = lst[0]\n",
    "    # visualize(origs,gw,gh)\n",
    "    # visualize(imgs,gw,gh)\n",
    "    output=np.concatenate([origs,imgs],axis=2)\n",
    "    display(Image.fromarray(output.reshape(-1,output.shape[-2],output.shape[-1]), 'RGB'))"
   ]
  },
  {
   "cell_type": "code",
   "execution_count": null,
   "id": "2a016e81",
   "metadata": {
    "pycharm": {
     "name": "#%%\n"
    }
   },
   "outputs": [],
   "source": []
  }
 ],
 "metadata": {
  "kernelspec": {
   "display_name": "Python 3 (ipykernel)",
   "language": "python",
   "name": "python3"
  },
  "language_info": {
   "codemirror_mode": {
    "name": "ipython",
    "version": 3
   },
   "file_extension": ".py",
   "mimetype": "text/x-python",
   "name": "python",
   "nbconvert_exporter": "python",
   "pygments_lexer": "ipython3",
   "version": "3.9.16"
  }
 },
 "nbformat": 4,
 "nbformat_minor": 5
}