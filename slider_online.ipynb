{
 "cells": [
  {
   "cell_type": "code",
   "execution_count": 1,
   "id": "542e1dbf",
   "metadata": {
    "pycharm": {
     "name": "#%%\n"
    },
    "scrolled": true
   },
   "outputs": [],
   "source": [
    "import os\n",
    "import clip\n",
    "import numpy as np\n",
    "from PIL import Image\n",
    "import torch\n",
    "\n",
    "from embedding import get_delta_t\n",
    "from manipulator import Manipulator\n",
    "from mapper import get_delta_s\n",
    "from wrapper import Generator"
   ]
  },
  {
   "cell_type": "code",
   "execution_count": 2,
   "id": "2c17dfcd",
   "metadata": {
    "pycharm": {
     "name": "#%%\n"
    },
    "scrolled": true
   },
   "outputs": [],
   "source": [
    "# GPU device\n",
    "device = torch.device('cuda:2')\n",
    "# pretrained ffhq generator\n",
    "ckpt = 'pretrained/ffhq.pkl'\n",
    "G = Generator(ckpt, device)\n",
    "# CLIP\n",
    "model, preprocess = clip.load(\"ViT-B/32\", device=device)\n",
    "# global image direction\n",
    "fs3 = np.load('tensor/fs3.npy')"
   ]
  },
  {
   "cell_type": "code",
   "execution_count": 3,
   "id": "cf855a49",
   "metadata": {
    "pycharm": {
     "name": "#%%\n"
    },
    "scrolled": true
   },
   "outputs": [],
   "source": [
    "manipulator = Manipulator(G, device)"
   ]
  },
  {
   "cell_type": "code",
   "execution_count": 4,
   "id": "af5ce98c",
   "metadata": {
    "pycharm": {
     "name": "#%%\n"
    },
    "scrolled": true
   },
   "outputs": [],
   "source": [
    "# test image dir path\n",
    "imgdir = 'samples'"
   ]
  },
  {
   "cell_type": "code",
   "execution_count": 5,
   "id": "d66e865b",
   "metadata": {
    "pycharm": {
     "name": "#%%\n"
    },
    "scrolled": true
   },
   "outputs": [
    {
     "name": "stdout",
     "output_type": "stream",
     "text": [
      "Loading e4e over the pSp framework from checkpoint: pretrained/e4e_ffhq_encode.pt\n",
      "Setting up [LPIPS] perceptual loss: trunk [alex], v[0.1], spatial [off]\n",
      "Loading model from: /home/baole/.conda/envs/zoom/lib/python3.9/site-packages/lpips/weights/v0.1/alex.pth\n",
      "Loading e4e over the pSp framework from checkpoint: pretrained/e4e_ffhq_encode.pt\n",
      "Setting up [LPIPS] perceptual loss: trunk [alex], v[0.1], spatial [off]\n",
      "Loading model from: /home/baole/.conda/envs/zoom/lib/python3.9/site-packages/lpips/weights/v0.1/alex.pth\n"
     ]
    },
    {
     "name": "stderr",
     "output_type": "stream",
     "text": [
      "  0%|                                                                                                                                                     | 0/350 [00:00<?, ?it/s]"
     ]
    },
    {
     "name": "stdout",
     "output_type": "stream",
     "text": [
      "Setting up PyTorch plugin \"bias_act_plugin\"... Done.\n",
      "Setting up PyTorch plugin \"upfirdn2d_plugin\"... Done.\n"
     ]
    },
    {
     "name": "stderr",
     "output_type": "stream",
     "text": [
      "100%|███████████████████████████████████████████████████████████████████████████████████████████████████████████████████████████████████████████| 350/350 [05:32<00:00,  1.05it/s]\n"
     ]
    }
   ],
   "source": [
    "# manipulator mode\n",
    "# inv_mode : inversion mode\n",
    "# 'w' : use w projector proposed by Karras et al.\n",
    "# 'w+' : use e4e encoder (only implemented for ffhq1024 now)\n",
    "# pti_mode : pivot tuning mode\n",
    "# 'w' : W latent space pivot tuning\n",
    "# 's' : Style space pivot tuning\n",
    "manipulator.set_real_img_projection(imgdir, inv_mode='w+', pti_mode='s')"
   ]
  },
  {
   "cell_type": "code",
   "execution_count": 6,
   "id": "07276238",
   "metadata": {
    "pycharm": {
     "name": "#%%\n"
    },
    "scrolled": true
   },
   "outputs": [],
   "source": [
    "# text direction : neutral -> target\n",
    "\n",
    "targets = [\n",
    "\n",
    "    'face with Arched Eyebrows',\n",
    "    'face with Bushy Eyebrows',\n",
    "\n",
    "    'face with Big Lips',\n",
    "\n",
    "    'face with Big Nose',\n",
    "    'face with Pointy Nose',\n",
    "\n",
    "    'face with Black Hair',\n",
    "    'face with Blond Hair',\n",
    "    'face with Brown Hair',\n",
    "    'face with Gray Hair',\n",
    "    'face with Curly Hair',\n",
    "    'face with Straight Hair',\n",
    "    'face with Wavy Hair',\n",
    "    'face with Receding Hairline',\n",
    "    'face with Bangs',\n",
    "\n",
    "    'face with Eyeglasses',\n",
    "    'face with Sunglasses',\n",
    "\n",
    "    'face with Eyes Open',\n",
    "    'face with Narrow Eyes',\n",
    "    'face with Brown Eyes',\n",
    "    'face with Bags Under Eyes',\n",
    "\n",
    "    'face with Heavy Makeup',\n",
    "    'face with Lipstick',\n",
    "\n",
    "    'face with Mouth Closed',\n",
    "    'face with Mouth Slightly Open',\n",
    "    'face with Mouth Wide Open',\n",
    "\n",
    "    'face with Beard',\n",
    "    'face with No Beard',\n",
    "    'face with Mustache',\n",
    "    'face with Goatee',\n",
    "\n",
    "    'face with Pale Skin',\n",
    "    'face with Shiny Skin',\n",
    "    'face with Rosy Cheeks',\n",
    "    'face with Sideburns',\n",
    "\n",
    "    'face with Earrings',\n",
    "    'face with Hat',\n",
    "    'face with Necklace',\n",
    "    'face with Necktie',\n",
    "\n",
    "    'face with Double Chin',\n",
    "    'face with High Cheekbones',\n",
    "    'face with Frowning',\n",
    "    'face with Round Jaw',\n",
    "\n",
    "    'Asian face',\n",
    "    'White face',\n",
    "    'Black face',\n",
    "    'Indian face',\n",
    "\n",
    "    'Baby face',\n",
    "    'Child face',\n",
    "    'Middle Aged face',\n",
    "    'Senior face',\n",
    "    'Youth face',\n",
    "\n",
    "    'Oval Face',\n",
    "    'Square Face',\n",
    "    'Round Face',\n",
    "\n",
    "    'Attractive face',\n",
    "    'Bald face',\n",
    "    'Blurry face',\n",
    "    'Chubby face',\n",
    "    'Smiling face',\n",
    "\n",
    "    'Surprised face',\n",
    "    'Fearful face',\n",
    "    'Disgusted face',\n",
    "    'Happy face',\n",
    "    'Sad face',\n",
    "    'Angry face',\n",
    "\n",
    "    'face under Harsh Lighting',\n",
    "    'face under Flash Lighting',\n",
    "\n",
    "]\n",
    "neutral = 'face'\n",
    "\n",
    "# beta_threshold : Determines the degree of disentanglement, # channels manipulated\n",
    "beta_threshold = 0.10"
   ]
  },
  {
   "cell_type": "code",
   "execution_count": 7,
   "id": "b1d9cf99-0096-426b-b7bc-ad355549ec86",
   "metadata": {
    "pycharm": {
     "name": "#%%\n"
    },
    "scrolled": true
   },
   "outputs": [],
   "source": [
    "def visualize(imgs,gh,gw):\n",
    "    _,H,W,C=imgs.shape\n",
    "    imgs=imgs.reshape(gh,gw,H,W,C)\n",
    "    imgs=imgs.transpose(0,2,1,3,4)\n",
    "    imgs = imgs.reshape(gh*H, gw*W, C)\n",
    "    display(Image.fromarray(imgs, 'RGB'))"
   ]
  },
  {
   "cell_type": "code",
   "execution_count": 8,
   "id": "001abccc",
   "metadata": {
    "pycharm": {
     "name": "#%%\n"
    },
    "scrolled": true
   },
   "outputs": [],
   "source": [
    "import ipywidgets as widgets\n",
    "delta_s=None"
   ]
  },
  {
   "cell_type": "code",
   "execution_count": 9,
   "id": "1d582b03-453c-43bc-8b0c-64a582d143ff",
   "metadata": {
    "scrolled": true
   },
   "outputs": [],
   "source": [
    "H,W=250,250\n",
    "origs=[]\n",
    "for filename in sorted(os.listdir(imgdir)):\n",
    "    origs.append(np.asanyarray(Image.open(f'{imgdir}/{filename}').resize((H,W))))\n",
    "origs=np.stack(origs)"
   ]
  },
  {
   "cell_type": "code",
   "execution_count": 10,
   "id": "34978c7c",
   "metadata": {
    "pycharm": {
     "name": "#%%\n"
    },
    "scrolled": true
   },
   "outputs": [],
   "source": [
    "slider = widgets.FloatSlider(\n",
    "    value=0,\n",
    "    min=-5,\n",
    "    max=5,\n",
    "    step=0.01,\n",
    "    description='Alpha:',\n",
    "    readout_format='.2f',\n",
    ")"
   ]
  },
  {
   "cell_type": "code",
   "execution_count": 11,
   "id": "84dea6df",
   "metadata": {
    "pycharm": {
     "name": "#%%\n"
    },
    "scrolled": true
   },
   "outputs": [],
   "source": [
    "dropdown = widgets.Dropdown(options=targets)"
   ]
  },
  {
   "cell_type": "code",
   "execution_count": 12,
   "id": "57eb2134",
   "metadata": {
    "scrolled": true
   },
   "outputs": [],
   "source": [
    "out1 = widgets.Output()\n",
    "out2 = widgets.Output()\n",
    "out3 = widgets.Output()\n",
    "out4 = widgets.Output()"
   ]
  },
  {
   "cell_type": "code",
   "execution_count": 13,
   "id": "dd0efa77-3a5b-492d-a00b-40559dc780f3",
   "metadata": {
    "scrolled": true
   },
   "outputs": [],
   "source": [
    "with out1:\n",
    "    visualize(origs[:5],1,5)\n",
    "with out3:\n",
    "    visualize(origs[5:],1,5)"
   ]
  },
  {
   "cell_type": "code",
   "execution_count": 14,
   "id": "f92aac5c-53e7-4107-835c-b52386dde135",
   "metadata": {
    "scrolled": true
   },
   "outputs": [],
   "source": [
    "def resize(img):\n",
    "    return np.asarray(Image.fromarray(img, 'RGB').resize((H,W)))"
   ]
  },
  {
   "cell_type": "code",
   "execution_count": 15,
   "id": "888c3014",
   "metadata": {
    "pycharm": {
     "name": "#%%\n"
    },
    "scrolled": true
   },
   "outputs": [],
   "source": [
    "import time\n",
    "def slider_handler(change):\n",
    "    # manipulate styles\n",
    "    t=[]\n",
    "    t.append(time.time())\n",
    "    manipulator.set_alpha([-slider.value])\n",
    "    styles = manipulator.manipulate(delta_s)\n",
    "    all_imgs = manipulator.synthesis_from_styles(styles, 0, manipulator.num_images)\n",
    "    t.append(time.time())\n",
    "    # visualize\n",
    "    lst = []\n",
    "    for imgs in all_imgs:\n",
    "        lst.append((imgs.permute(0, 2, 3, 1) * 127.5 + 128).clamp(0, 255).to(torch.uint8).numpy())\n",
    "    t.append(time.time())\n",
    "    imgs = lst[0]\n",
    "    imgs_ =[]\n",
    "    for img in imgs:\n",
    "        imgs_.append(np.asarray(Image.fromarray(img, 'RGB').resize((H,W))))\n",
    "    imgs_ = np.stack(imgs_)\n",
    "    t.append(time.time())\n",
    "    with out2:\n",
    "        out2.clear_output(wait=True)\n",
    "        visualize(imgs_[:5],1,5)\n",
    "    with out4:\n",
    "        out4.clear_output(wait=True)\n",
    "        visualize(imgs_[5:],1,5)\n",
    "        t.append(time.time())\n",
    "#         print(t)\n",
    "\n",
    "slider.observe(slider_handler, names='value')"
   ]
  },
  {
   "cell_type": "code",
   "execution_count": 16,
   "id": "f6dcfb11",
   "metadata": {
    "pycharm": {
     "name": "#%%\n"
    },
    "scrolled": true
   },
   "outputs": [],
   "source": [
    "def dropdown_handler(change):\n",
    "    global delta_s\n",
    "    classnames = [neutral, dropdown.value]\n",
    "    delta_t = get_delta_t(classnames, model)\n",
    "    delta_s, _ = get_delta_s(fs3, delta_t, manipulator, beta_threshold=beta_threshold)\n",
    "    slider_handler(change)\n",
    "\n",
    "dropdown.observe(dropdown_handler,names='value')"
   ]
  },
  {
   "cell_type": "code",
   "execution_count": 17,
   "id": "5ff987a3",
   "metadata": {
    "scrolled": true
   },
   "outputs": [],
   "source": [
    "dropdown_handler(None)"
   ]
  },
  {
   "cell_type": "code",
   "execution_count": 18,
   "id": "5fce5030",
   "metadata": {
    "scrolled": false
   },
   "outputs": [],
   "source": [
    "control=widgets.VBox(children=[slider,dropdown])\n",
    "out=widgets.VBox(children=[out1,out2,out3,out4])"
   ]
  },
  {
   "cell_type": "code",
   "execution_count": 19,
   "id": "5239600c",
   "metadata": {},
   "outputs": [
    {
     "data": {
      "text/plain": "HBox(children=(VBox(children=(Output(), Output(), Output(), Output())), VBox(children=(FloatSlider(value=0.0, …",
      "application/vnd.jupyter.widget-view+json": {
       "version_major": 2,
       "version_minor": 0,
       "model_id": "2f0b5681c5324e0ebf225cdb6156ad4d"
      }
     },
     "execution_count": 19,
     "metadata": {},
     "output_type": "execute_result"
    }
   ],
   "source": [
    "widgets.HBox(children=[out,control])"
   ]
  },
  {
   "cell_type": "code",
   "execution_count": 19,
   "id": "bda7a48e-1885-4cc7-abfb-bad2103c1572",
   "metadata": {
    "scrolled": true
   },
   "outputs": [],
   "source": []
  }
 ],
 "metadata": {
  "kernelspec": {
   "display_name": "Python [conda env:.conda-zoom] *",
   "language": "python",
   "name": "conda-env-.conda-zoom-py"
  },
  "language_info": {
   "codemirror_mode": {
    "name": "ipython",
    "version": 3
   },
   "file_extension": ".py",
   "mimetype": "text/x-python",
   "name": "python",
   "nbconvert_exporter": "python",
   "pygments_lexer": "ipython3",
   "version": "3.9.16"
  }
 },
 "nbformat": 4,
 "nbformat_minor": 5
}